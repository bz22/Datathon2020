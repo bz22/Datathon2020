{
 "cells": [
  {
   "cell_type": "code",
   "execution_count": 177,
   "metadata": {},
   "outputs": [],
   "source": [
    "import numpy as np\n",
    "import random\n",
    "import matplotlib.pyplot as plt\n",
    "from MyGradUpdated.MyGrad.mygrad.tensor_base import Tensor\n",
    "from MyGradUpdated.MyGrad.mygrad.nnet.activations import sigmoid, relu\n",
    "from MyGradUpdated.MyGrad.mygrad.nnet.losses import SoftmaxCrossEntropy\n",
    "from MyGradUpdated.MyGrad.mygrad.math import log\n",
    "from MyGradUpdated.MyGrad.mygrad.nnet.layers import dense\n",
    "import pandas as pd\n",
    "from itertools import product "
   ]
  },
  {
   "cell_type": "code",
   "execution_count": 212,
   "metadata": {},
   "outputs": [
    {
     "name": "stdout",
     "output_type": "stream",
     "text": [
      "(34, 54)\n",
      "[[ 0.  0.  2. ...,  0.  0.  0.]\n",
      " [ 3.  2.  3. ...,  4.  4.  4.]\n",
      " [ 3.  3.  3. ...,  2.  2.  2.]\n",
      " ..., \n",
      " [ 1.  1.  0. ...,  1.  1.  1.]\n",
      " [ 0.  3.  1. ...,  0.  0.  0.]\n",
      " [ 0.  1.  2. ...,  3.  2.  1.]]\n",
      "(34,)\n"
     ]
    }
   ],
   "source": [
    "fileName = \"divorce.xlsx\" #you can change this string file name\n",
    "data_frame_convert = pd.read_excel(fileName)\n",
    "parseArray = data_frame_convert.values\n",
    "\n",
    "train_input = parseArray[:136, :-2]\n",
    "train_output = parseArray[:136, -2]\n",
    "\n",
    "test_input = parseArray[136: ,:-2]\n",
    "test_output = parseArray[136:,-2]\n",
    "\n",
    "print(test_input.shape)\n",
    "print(test_output.shape)"
   ]
  },
  {
   "cell_type": "code",
   "execution_count": 358,
   "metadata": {},
   "outputs": [],
   "source": [
    "\"\"\"Neural Net Functions\"\"\"\n",
    "\n",
    "def he_normal(shape):\n",
    "    N = shape[0] #gets how many \"images\" there are or \"items\"\n",
    "    scale = 1 / np.sqrt(2*N)\n",
    "    return np.random.randn(*shape)*scale\n",
    "\n",
    "def fwd_pass(x, weights_1, bias_1, weights_2, bias_2):\n",
    "    o1 = relu(dense(x, weights_1.data) + bias_1.data)\n",
    "    o2 = sigmoid(dense(o1, weights_2.data) + bias_2.data)\n",
    "    return o2\n",
    "    \n",
    "def cross_entropy(p_pred, p_true):\n",
    "    N = p_pred.shape[0]\n",
    "    p_logq = (p_true) * log(p_pred)\n",
    "    return (-1/ N) * p_logq.sum()  \n",
    "    \n",
    "def gradient_descent(param, rate):\n",
    "    print(param.grad)\n",
    "    \n",
    "def compute_accuracy(pred, actual):\n",
    "    #inputs are assumed to be a list\n",
    "    total = 0\n",
    "    for i in range(len(pred)):\n",
    "        if pred[i] == actual[i]:\n",
    "            total += 1\n",
    "    return total / len(pred)\n",
    "\n",
    "def mse(result, actual):\n",
    "    errors = [(actual - calculated) ** 2 for\n",
    "              calculated, actual in list(zip(result, actual))]   \n",
    "    return sum(errors) / len(result)\n",
    "\n",
    "def rounding(x):\n",
    "    if x >= 0.9:\n",
    "        return 1\n",
    "    return 0"
   ]
  },
  {
   "cell_type": "code",
   "execution_count": 383,
   "metadata": {},
   "outputs": [
    {
     "name": "stdout",
     "output_type": "stream",
     "text": [
      "1e-07 10000.0\n",
      "1e-07 1000.0\n",
      "1e-07 100.0\n",
      "1e-05 10000.0\n",
      "1e-05 1000.0\n",
      "1e-05 100.0\n",
      "1e-06 10000.0\n",
      "1e-06 1000.0\n",
      "1e-06 100.0\n",
      "1e-08 10000.0\n",
      "1e-08 1000.0\n",
      "1e-08 100.0\n",
      "{(1e-07, 10000.0): (0.24022879014563994, 0.25044989100390647), (1e-07, 1000.0): (0.1927156089503483, 0.26336047861566175), (1e-07, 100.0): (0.17365277051509523, 0.30377417627898273), (1e-05, 10000.0): (0.2592881787066046, 0.30582519808672354), (1e-05, 1000.0): (0.2336441442377066, 0.3260241056079949), (1e-05, 100.0): (0.2658124500635947, 0.3996232090385596), (1e-06, 10000.0): (0.24074261320584653, 0.2540735888110568), (1e-06, 1000.0): (0.20520868521768412, 0.26291771991046103), (1e-06, 100.0): (0.2132604103614798, 0.35584735755516467), (1e-08, 10000.0): (0.25996084632126665, 0.24751657772199398), (1e-08, 1000.0): (0.26097734315207866, 0.29592070630397493), (1e-08, 100.0): (0.48760932154117986, 0.3330024835159344)}\n"
     ]
    }
   ],
   "source": [
    "\"\"\"Cross Validation\"\"\"\n",
    "iterations = 8000\n",
    "\n",
    "results = {}\n",
    "best_mse = float('inf')   # The highest validation accuracy that we have seen so far.\n",
    "best_loss = []  # list of loss values measured during best training session\n",
    "best_MSEs = []  # list of validation accuracies measured during best training session\n",
    "step_size = [1e-7,1e-5,1e-6, 1e-8]\n",
    "reg_strengths = [1e4,1e3,1e2]\n",
    "your_various_rate_reg_pairs = product(step_size, reg_strengths)\n",
    "flag = True\n",
    "for rate, reg in your_various_rate_reg_pairs:\n",
    "    #Weights init\n",
    "    layer_1_weights = Tensor(he_normal((54, 170)))\n",
    "    #print(\"WEIGHTS\", layer_1_weights)\n",
    "    bias_1 = Tensor(np.zeros((170,), dtype=layer_1_weights.dtype))\n",
    "    layer_2_weights = Tensor(he_normal((170, 1)))\n",
    "    bias_2 = Tensor(np.zeros((1,), dtype=layer_2_weights.dtype))\n",
    "    params = [layer_1_weights, layer_2_weights, bias_1, bias_2]\n",
    "    print(rate, reg)\n",
    "    \n",
    "    losses = []  # will store loss for each training iteration\n",
    "    liveMSE = []  # will store training accuracy for each training iteration\n",
    "    \n",
    "    for it in range(iterations):\n",
    "        mask = np.random.choice(len(train_input), size=34, replace=False)\n",
    "        inputs = train_input[mask]\n",
    "        truths = train_output[mask]\n",
    "        \n",
    "        inputs = Tensor(inputs)\n",
    "        truths = Tensor(truths)\n",
    "        \n",
    "        o1 = relu(dense(inputs, layer_1_weights) + bias_1)\n",
    "        pred = sigmoid(dense(o1, layer_2_weights) + bias_2)\n",
    "        reg_term = reg * (layer_2_weights**2).sum() #this is regularlization value, Loss big = bad, loss small = good. \n",
    "        #reg is bad when all the parameters are really bad  Try to keep elements in W small so it does not overfit\n",
    "        loss = cross_entropy(pred, truths) + reg_term \n",
    "        #how good are our predictions and are we keeping the weights moderate. \n",
    "        loss.backward()\n",
    "        #gives the gradient/values for W.grad and b.grad\n",
    "         \n",
    "        for param in params:\n",
    "            param.data -= rate*param.grad\n",
    "        \n",
    "        # !!! Update model parameters using gradient descent with!!!\n",
    "        ### with the correct learning rate\n",
    "        loss.null_gradients()  # this is super important!!\n",
    "        \n",
    "        predicted_list = [float(ten.data) for ten in list(pred)]\n",
    "        #val_list = list(map(rounding, list(pred)))       \n",
    "        #train_accuracy = compute_accuracy(val_list, truths.data.tolist())\n",
    "        # the accuracy for this training batch\n",
    "        current_mse = mse(predicted_list, truths.data.tolist())\n",
    "        liveMSE.append(current_mse)\n",
    "        losses.append(loss.data.item())\n",
    "       \n",
    "    # Training is complete for this hyperparameter configuration\n",
    "    \n",
    "    # Use your trained model parameters to compute the predicted scores\n",
    "    # on the training data. Use this to compute the training-accuracy.\n",
    "    # save this to `train_acc`\n",
    "    \n",
    "    train_predict = fwd_pass(train_input, layer_1_weights, bias_1, layer_2_weights, bias_2)\n",
    "    predicted_list = [float(ten.data) for ten in list(train_predict)]\n",
    "    #what if you gradiented instead\n",
    "    \"\"\"for i, tensor in enumerate(predicted_list):\n",
    "        value = 0\n",
    "        if float(tensor.data) >= 0.95:\n",
    "            value = 1\n",
    "        predicted_list[i] = value\n",
    "    \"\"\"    \n",
    "    #train_acc = compute_accuracy(predicted_list, train_output.tolist())\n",
    "    train_mse = mse(predicted_list, train_output.tolist())\n",
    "\n",
    "    # Use your trained model parameters to compute the predicted scores\n",
    "    # on the validation data. Use this to compute the training-accuracy.\n",
    "    # save this to `val_acc`\n",
    "    \n",
    "    val_predict = fwd_pass(test_input, layer_1_weights, bias_1, layer_2_weights, bias_2)\n",
    "    val_list = [float(ten.data) for ten in list(val_predict)]\n",
    "    \"\"\"for i, tensor in enumerate(val_list):\n",
    "        value = 0\n",
    "        if float(tensor.data) >= 0.95:\n",
    "            value = 1\n",
    "        val_list[i] = value\n",
    "        \"\"\"\n",
    "        \n",
    "    #val_acc = compute_accuracy(val_list, test_output.tolist())\n",
    "    val_mse = mse(val_list, train_output.tolist())\n",
    "        \n",
    "    results[(rate, reg)] = (train_mse, val_mse)\n",
    "    if best_mse > val_mse:\n",
    "        best_loss = losses\n",
    "        best_MSEs = liveMSE\n",
    "        best_mse = val_mse\n",
    "        best_train = train_acc\n",
    "print(results)"
   ]
  },
  {
   "cell_type": "code",
   "execution_count": 384,
   "metadata": {},
   "outputs": [
    {
     "data": {
      "image/png": "[encoded data removed]",
      "text/plain": [
       "<matplotlib.figure.Figure at 0x2b616ed9b70>"
      ]
     },
     "metadata": {},
     "output_type": "display_data"
    }
   ],
   "source": [
    "# Visualize the cross-validation results\n",
    "import matplotlib.cm as cm\n",
    "import math\n",
    "x_scatter = [math.log10(x[0]) for x in results]\n",
    "y_scatter = [math.log10(x[1]) for x in results]\n",
    "\n",
    "# plot training accuracy\n",
    "marker_size = 100\n",
    "colors = [results[x][0] for x in results]\n",
    "#plt.subplot(2, 1, 1)\n",
    "plt.scatter(x_scatter, y_scatter, marker_size, c=colors, cmap=cm.viridis)\n",
    "plt.colorbar()\n",
    "plt.xlabel('log learning rate')\n",
    "plt.ylabel('log regularization strength')\n",
    "plt.title('Divorce training accuracy')\n",
    "plt.show()"
   ]
  },
  {
   "cell_type": "code",
   "execution_count": 388,
   "metadata": {},
   "outputs": [
    {
     "data": {
      "image/png": "[encoded data removed]",
      "text/plain": [
       "<matplotlib.figure.Figure at 0x2b6100c7ef0>"
      ]
     },
     "metadata": {},
     "output_type": "display_data"
    }
   ],
   "source": [
    "# plot validation accuracy\n",
    "colors = [results[x][1] for x in results] # default size of markers is 20\n",
    "#plt.subplot(2, 1, 2)\n",
    "plt.scatter(x_scatter, y_scatter, marker_size, c=colors,  cmap=cm.viridis)\n",
    "plt.colorbar()\n",
    "plt.xlabel('log learning rate')\n",
    "plt.ylabel('log regularization strength')\n",
    "plt.title(\"Divorce testing accuracy\")\n",
    "plt.show()"
   ]
  },
  {
   "cell_type": "code",
   "execution_count": 484,
   "metadata": {},
   "outputs": [
    {
     "name": "stdout",
     "output_type": "stream",
     "text": [
      "0\n",
      "1000\n",
      "2000\n",
      "3000\n",
      "4000\n",
      "5000\n",
      "6000\n",
      "7000\n",
      "8000\n",
      "9000\n",
      "10000\n",
      "11000\n",
      "12000\n",
      "13000\n",
      "14000\n",
      "15000\n",
      "16000\n",
      "17000\n",
      "18000\n",
      "19000\n",
      "test_input [ 2.  0.  2.  4.  2.  2.  4.  3.  4.  3.  2.  3.  3.  0.  4.  4.  3.  3.\n",
      "  3.  2.  2.  1.  2.  0.  0.  0.  0.  0.  2.  2.  3.  3.  3.  3.  3.  3.\n",
      "  3.  3.  1.  3.  2.  3.  3.  4.  4.  2.  3.  2.  2.  3.  3.  4.  2.  2.]\n",
      "test_output Tensor([ 0.83844616])\n",
      "model's MSE on test data 0.2533744420262865\n"
     ]
    }
   ],
   "source": [
    "\n",
    "\"\"\"Hyperparameters: Stepsize = 1e-6.  Regularization = 1000\"\"\"\n",
    "layer_1_weights = Tensor(he_normal((54, 170)))\n",
    "bias_1 = Tensor(np.zeros((170,), dtype=layer_1_weights.dtype))\n",
    "layer_2_weights = Tensor(he_normal((170, 1)))\n",
    "bias_2 = Tensor(np.zeros((1,), dtype=layer_2_weights.dtype))\n",
    "params = [layer_1_weights, layer_2_weights, bias_1, bias_2]\n",
    "\n",
    "rate = 1e-7\n",
    "reg = 1000\n",
    "\n",
    "iterations = 20000\n",
    "\n",
    "liveMSE = []\n",
    "losses = []\n",
    "\n",
    "for it in range(iterations):\n",
    "    if (it % 1000 == 0):\n",
    "        print(it)\n",
    "        \n",
    "    inputs = Tensor(train_input)\n",
    "    truths = Tensor(train_output)\n",
    "\n",
    "    o1 = relu(dense(inputs, layer_1_weights) + bias_1)\n",
    "    pred = sigmoid(dense(o1, layer_2_weights) + bias_2)\n",
    "    reg_term = reg * (layer_2_weights**2).sum() #this is regularlization value, Loss big = bad, loss small = good. \n",
    "    #reg is bad when all the parameters are really bad  Try to keep elements in W small so it does not overfit\n",
    "    loss = cross_entropy(pred, truths) + reg_term \n",
    "    #how good are our predictions and are we keeping the weights moderate. \n",
    "    loss.backward()\n",
    "    #gives the gradient/values for W.grad and b.grad\n",
    "\n",
    "    for param in params:\n",
    "        param.data -= rate*param.grad\n",
    "\n",
    "    # !!! Update model parameters using gradient descent with!!!\n",
    "    ### with the correct learning rate\n",
    "    loss.null_gradients()  # this is super important!!\n",
    "\n",
    "    predicted_list = [float(ten.data) for ten in list(pred)]\n",
    "    #val_list = list(map(rounding, list(pred)))       \n",
    "    #train_accuracy = compute_accuracy(val_list, truths.data.tolist())\n",
    "    # the accuracy for this training batch\n",
    "    current_mse = mse(predicted_list, truths.data.tolist())\n",
    "    liveMSE.append(current_mse)\n",
    "    losses.append(loss.data.item())\n",
    "\n",
    "print(\"test_input\", test_input[10])\n",
    "test_result = fwd_pass(Tensor(test_input), layer_1_weights, bias_1, layer_2_weights, bias_2)\n",
    "print(\"test_output\", test_result[10])\n",
    "test_list = [float(ten.data) for ten in list(test_result)]\n",
    "final_mse = mse(test_list, test_output.tolist())\n",
    "\n",
    "print(\"model's MSE on test data\", final_mse)"
   ]
  },
  {
   "cell_type": "code",
   "execution_count": 485,
   "metadata": {
    "scrolled": true
   },
   "outputs": [
    {
     "name": "stdout",
     "output_type": "stream",
     "text": [
      "test_input [ 1.  1.  0.  0.  0.  0.  0.  0.  0.  1.  0.  0.  1.  0.  0.  0.  0.  0.\n",
      "  0.  0.  1.  0.  0.  0.  1.  0.  1.  1.  1.  1.  0.  0.  0.  0.  0.  0.\n",
      "  0.  0.  0.  0.  0.  1.  2.  0.  2.  1.  0.  0.  1.  1.  1.  1.  1.  1.]\n",
      "test_output Tensor([ 0.58358682])\n",
      "safe\n",
      "model's MSE on test data 0.2533744420262865\n"
     ]
    }
   ],
   "source": [
    "print(\"test_input\", test_input[31])\n",
    "test_result = fwd_pass(Tensor(test_input), layer_1_weights, bias_1, layer_2_weights, bias_2)\n",
    "print(\"test_output\", test_result[31])\n",
    "if ((float(test_result[31].data))>0.7):\n",
    "    print(\"divorce\")\n",
    "else:\n",
    "    print(\"safe\")\n",
    "test_list = [float(ten.data) for ten in list(test_result)]\n",
    "final_mse = mse(test_list, test_output.tolist())\n",
    "\n",
    "print(\"model's MSE on test data\", final_mse)"
   ]
  },
  {
   "cell_type": "code",
   "execution_count": 486,
   "metadata": {},
   "outputs": [
    {
     "data": {
      "image/png": "[encoded data removed]",
      "text/plain": [
       "<matplotlib.figure.Figure at 0x2b60f8f00f0>"
      ]
     },
     "metadata": {},
     "output_type": "display_data"
    }
   ],
   "source": [
    "fig,(ax) = plt.subplots(nrows=1)\n",
    "plt.title(\"Cross Entropy Loss over Time\")\n",
    "ax.plot(losses)\n",
    "plt.xlabel('Iterations')\n",
    "plt.show()"
   ]
  },
  {
   "cell_type": "code",
   "execution_count": 487,
   "metadata": {},
   "outputs": [
    {
     "data": {
      "image/png": "[encoded data removed]",
      "text/plain": [
       "<matplotlib.figure.Figure at 0x2b619596d68>"
      ]
     },
     "metadata": {},
     "output_type": "display_data"
    }
   ],
   "source": [
    "fig,(ax2) = plt.subplots(nrows=1)\n",
    "plt.title(\"MSE over time\")\n",
    "ax2.plot(liveMSE)\n",
    "plt.xlabel('Iterations')\n",
    "plt.show()"
   ]
  },
  {
   "cell_type": "code",
   "execution_count": 494,
   "metadata": {},
   "outputs": [
    {
     "name": "stdout",
     "output_type": "stream",
     "text": [
      "[1.8209798528619972, 1.655569918815708, 1.6626850191307623, 1.8611497560583177, 1.6251714155330794, 1.5390056052928403, 1.892666756499237, 1.6891784488172792, 1.6599740149528457, 1.5652040552879976, 1.6815451437966253, 1.6505780042464255, 1.8997672547442244, 1.55006165295476, 1.786762911257982, 1.4027465334518403, 1.3292847466761142, 1.555319479973246, 1.7579666831314844, 1.6867750114101563, 1.4682054744160535, 1.5223025219707833, 1.6704253219503051, 1.786285042393027, 1.5391786885563292, 1.6798213897603633, 1.586666845602231, 1.677271010862961, 1.65664049950856, 1.4913812534073463, 1.444870358306535, 1.3740052103060223, 1.6052608128862356, 1.723268129837501, 1.8935872606485644, 1.716204990145568, 1.6563806208617147, 1.3446978789338129, 1.330873851936014, 1.8261409633736665, 1.6279492723970819, 1.7590708286617422, 1.7251195594382387, 1.447986592148624, 1.0633223167014458, 1.5113188228929573, 1.2754201496593616, 1.5159245964896144, 1.5555958235717453, 1.231600831183001, 1.9933479528297264, 1.8884901387661213, 1.9063608219267854, 1.5812190607538201]\n",
      "54\n",
      "Important questions [1, 4, 7, 13, 35, 40, 51, 52, 53]\n"
     ]
    }
   ],
   "source": [
    "sums = []\n",
    "for row in layer_1_weights:\n",
    "    total = 0\n",
    "    for elem in row.data.tolist():\n",
    "        total += elem ** 2\n",
    "    sums.append(total)\n",
    "\n",
    "print(sums)\n",
    "print(len(sums))\n",
    "\n",
    "indices = []\n",
    "for i, elem in enumerate(sums):\n",
    "    if elem >= 1.8:\n",
    "        indices.append(i+1)\n",
    "        \n",
    "print(\"Important questions\", indices)"
   ]
  },
  {
   "cell_type": "code",
   "execution_count": null,
   "metadata": {
    "collapsed": true
   },
   "outputs": [],
   "source": []
  }
 ],
 "metadata": {
  "kernelspec": {
   "display_name": "Python 3",
   "language": "python",
   "name": "python3"
  },
  "language_info": {
   "codemirror_mode": {
    "name": "ipython",
    "version": 3
   },
   "file_extension": ".py",
   "mimetype": "text/x-python",
   "name": "python",
   "nbconvert_exporter": "python",
   "pygments_lexer": "ipython3",
   "version": "3.6.1"
  }
 },
 "nbformat": 4,
 "nbformat_minor": 2
}
