{
 "cells": [
  {
   "cell_type": "code",
   "execution_count": 504,
   "metadata": {
    "collapsed": true
   },
   "outputs": [],
   "source": [
    "import numpy as np\n",
    "import random\n",
    "import matplotlib.pyplot as plt\n",
    "from MyGradUpdated.MyGrad.mygrad.tensor_base import Tensor\n",
    "from MyGradUpdated.MyGrad.mygrad.nnet.activations import sigmoid, relu\n",
    "from MyGradUpdated.MyGrad.mygrad.nnet.losses import SoftmaxCrossEntropy\n",
    "from MyGradUpdated.MyGrad.mygrad.math import log\n",
    "from MyGradUpdated.MyGrad.mygrad.nnet.layers import dense\n",
    "import pandas as pd\n",
    "from itertools import product "
   ]
  },
  {
   "cell_type": "code",
   "execution_count": 212,
   "metadata": {},
   "outputs": [
    {
     "name": "stdout",
     "output_type": "stream",
     "text": [
      "(34, 54)\n",
      "[[ 0.  0.  2. ...,  0.  0.  0.]\n",
      " [ 3.  2.  3. ...,  4.  4.  4.]\n",
      " [ 3.  3.  3. ...,  2.  2.  2.]\n",
      " ..., \n",
      " [ 1.  1.  0. ...,  1.  1.  1.]\n",
      " [ 0.  3.  1. ...,  0.  0.  0.]\n",
      " [ 0.  1.  2. ...,  3.  2.  1.]]\n",
      "(34,)\n"
     ]
    }
   ],
   "source": [
    "fileName = \"divorce.xlsx\" #you can change this string file name\n",
    "data_frame_convert = pd.read_excel(fileName)\n",
    "parseArray = data_frame_convert.values\n",
    "\n",
    "train_input = parseArray[:136, :-2]\n",
    "train_output = parseArray[:136, -2]\n",
    "\n",
    "test_input = parseArray[136: ,:-2]\n",
    "test_output = parseArray[136:,-2]\n",
    "\n",
    "print(test_input.shape)\n",
    "print(test_output.shape)"
   ]
  },
  {
   "cell_type": "code",
   "execution_count": 358,
   "metadata": {
    "collapsed": true
   },
   "outputs": [],
   "source": [
    "\"\"\"Neural Net Functions\"\"\"\n",
    "\n",
    "def he_normal(shape):\n",
    "    N = shape[0] #gets how many \"images\" there are or \"items\"\n",
    "    scale = 1 / np.sqrt(2*N)\n",
    "    return np.random.randn(*shape)*scale\n",
    "\n",
    "def fwd_pass(x, weights_1, bias_1, weights_2, bias_2):\n",
    "    o1 = relu(dense(x, weights_1.data) + bias_1.data)\n",
    "    o2 = sigmoid(dense(o1, weights_2.data) + bias_2.data)\n",
    "    return o2\n",
    "    \n",
    "def cross_entropy(p_pred, p_true):\n",
    "    N = p_pred.shape[0]\n",
    "    p_logq = (p_true) * log(p_pred)\n",
    "    return (-1/ N) * p_logq.sum()  \n",
    "    \n",
    "def gradient_descent(param, rate):\n",
    "    print(param.grad)\n",
    "    \n",
    "def compute_accuracy(pred, actual):\n",
    "    #inputs are assumed to be a list\n",
    "    total = 0\n",
    "    for i in range(len(pred)):\n",
    "        if pred[i] == actual[i]:\n",
    "            total += 1\n",
    "    return total / len(pred)\n",
    "\n",
    "def mse(result, actual):\n",
    "    errors = [(actual - calculated) ** 2 for\n",
    "              calculated, actual in list(zip(result, actual))]   \n",
    "    return sum(errors) / len(result)\n",
    "\n",
    "def rounding(x):\n",
    "    if x >= 0.9:\n",
    "        return 1\n",
    "    return 0"
   ]
  },
  {
   "cell_type": "code",
   "execution_count": 495,
   "metadata": {},
   "outputs": [
    {
     "name": "stdout",
     "output_type": "stream",
     "text": [
      "1e-07 10000.0\n"
     ]
    },
    {
     "ename": "KeyboardInterrupt",
     "evalue": "",
     "output_type": "error",
     "traceback": [
      "\u001b[1;31m---------------------------------------------------------------------------\u001b[0m",
      "\u001b[1;31mKeyboardInterrupt\u001b[0m                         Traceback (most recent call last)",
      "\u001b[1;32m<ipython-input-495-6edd24082c54>\u001b[0m in \u001b[0;36m<module>\u001b[1;34m()\u001b[0m\n\u001b[0;32m     24\u001b[0m \u001b[1;33m\u001b[0m\u001b[0m\n\u001b[0;32m     25\u001b[0m     \u001b[1;32mfor\u001b[0m \u001b[0mit\u001b[0m \u001b[1;32min\u001b[0m \u001b[0mrange\u001b[0m\u001b[1;33m(\u001b[0m\u001b[0miterations\u001b[0m\u001b[1;33m)\u001b[0m\u001b[1;33m:\u001b[0m\u001b[1;33m\u001b[0m\u001b[0m\n\u001b[1;32m---> 26\u001b[1;33m         \u001b[0mmask\u001b[0m \u001b[1;33m=\u001b[0m \u001b[0mnp\u001b[0m\u001b[1;33m.\u001b[0m\u001b[0mrandom\u001b[0m\u001b[1;33m.\u001b[0m\u001b[0mchoice\u001b[0m\u001b[1;33m(\u001b[0m\u001b[0mlen\u001b[0m\u001b[1;33m(\u001b[0m\u001b[0mtrain_input\u001b[0m\u001b[1;33m)\u001b[0m\u001b[1;33m,\u001b[0m \u001b[0msize\u001b[0m\u001b[1;33m=\u001b[0m\u001b[1;36m34\u001b[0m\u001b[1;33m,\u001b[0m \u001b[0mreplace\u001b[0m\u001b[1;33m=\u001b[0m\u001b[1;32mFalse\u001b[0m\u001b[1;33m)\u001b[0m\u001b[1;33m\u001b[0m\u001b[0m\n\u001b[0m\u001b[0;32m     27\u001b[0m         \u001b[0minputs\u001b[0m \u001b[1;33m=\u001b[0m \u001b[0mtrain_input\u001b[0m\u001b[1;33m[\u001b[0m\u001b[0mmask\u001b[0m\u001b[1;33m]\u001b[0m\u001b[1;33m\u001b[0m\u001b[0m\n\u001b[0;32m     28\u001b[0m         \u001b[0mtruths\u001b[0m \u001b[1;33m=\u001b[0m \u001b[0mtrain_output\u001b[0m\u001b[1;33m[\u001b[0m\u001b[0mmask\u001b[0m\u001b[1;33m]\u001b[0m\u001b[1;33m\u001b[0m\u001b[0m\n",
      "\u001b[1;32mmtrand.pyx\u001b[0m in \u001b[0;36mmtrand.RandomState.choice (numpy\\random\\mtrand\\mtrand.c:18766)\u001b[1;34m()\u001b[0m\n",
      "\u001b[1;32mmtrand.pyx\u001b[0m in \u001b[0;36mmtrand.RandomState.permutation (numpy\\random\\mtrand\\mtrand.c:39717)\u001b[1;34m()\u001b[0m\n",
      "\u001b[1;32mmtrand.pyx\u001b[0m in \u001b[0;36mmtrand.RandomState.shuffle (numpy\\random\\mtrand\\mtrand.c:38665)\u001b[1;34m()\u001b[0m\n",
      "\u001b[1;32mC:\\Users\\brand\\Anaconda3\\lib\\site-packages\\numpy\\core\\_internal.py\u001b[0m in \u001b[0;36m__init__\u001b[1;34m(self, array, ptr)\u001b[0m\n\u001b[0;32m    223\u001b[0m \u001b[1;33m\u001b[0m\u001b[0m\n\u001b[0;32m    224\u001b[0m \u001b[1;32mclass\u001b[0m \u001b[0m_ctypes\u001b[0m\u001b[1;33m(\u001b[0m\u001b[0mobject\u001b[0m\u001b[1;33m)\u001b[0m\u001b[1;33m:\u001b[0m\u001b[1;33m\u001b[0m\u001b[0m\n\u001b[1;32m--> 225\u001b[1;33m     \u001b[1;32mdef\u001b[0m \u001b[0m__init__\u001b[0m\u001b[1;33m(\u001b[0m\u001b[0mself\u001b[0m\u001b[1;33m,\u001b[0m \u001b[0marray\u001b[0m\u001b[1;33m,\u001b[0m \u001b[0mptr\u001b[0m\u001b[1;33m=\u001b[0m\u001b[1;32mNone\u001b[0m\u001b[1;33m)\u001b[0m\u001b[1;33m:\u001b[0m\u001b[1;33m\u001b[0m\u001b[0m\n\u001b[0m\u001b[0;32m    226\u001b[0m         \u001b[1;32mtry\u001b[0m\u001b[1;33m:\u001b[0m\u001b[1;33m\u001b[0m\u001b[0m\n\u001b[0;32m    227\u001b[0m             \u001b[0mself\u001b[0m\u001b[1;33m.\u001b[0m\u001b[0m_ctypes\u001b[0m \u001b[1;33m=\u001b[0m \u001b[0mctypes\u001b[0m\u001b[1;33m\u001b[0m\u001b[0m\n",
      "\u001b[1;31mKeyboardInterrupt\u001b[0m: "
     ]
    }
   ],
   "source": [
    "\"\"\"Cross Validation\"\"\"\n",
    "iterations = 8000\n",
    "\n",
    "results = {}\n",
    "best_mse = float('inf')   # The highest validation accuracy that we have seen so far.\n",
    "best_loss = []  # list of loss values measured during best training session\n",
    "best_MSEs = []  # list of validation accuracies measured during best training session\n",
    "step_size = [1e-7,1e-5,1e-6, 1e-8]\n",
    "reg_strengths = [1e4,1e3,1e2]\n",
    "your_various_rate_reg_pairs = product(step_size, reg_strengths)\n",
    "flag = True\n",
    "for rate, reg in your_various_rate_reg_pairs:\n",
    "    #Weights init\n",
    "    layer_1_weights = Tensor(he_normal((54, 170)))\n",
    "    #print(\"WEIGHTS\", layer_1_weights)\n",
    "    bias_1 = Tensor(np.zeros((170,), dtype=layer_1_weights.dtype))\n",
    "    layer_2_weights = Tensor(he_normal((170, 1)))\n",
    "    bias_2 = Tensor(np.zeros((1,), dtype=layer_2_weights.dtype))\n",
    "    params = [layer_1_weights, layer_2_weights, bias_1, bias_2]\n",
    "    print(rate, reg)\n",
    "    \n",
    "    losses = []  # will store loss for each training iteration\n",
    "    liveMSE = []  # will store training accuracy for each training iteration\n",
    "    \n",
    "    for it in range(iterations):\n",
    "        mask = np.random.choice(len(train_input), size=34, replace=False)\n",
    "        inputs = train_input[mask]\n",
    "        truths = train_output[mask]\n",
    "        \n",
    "        inputs = Tensor(inputs)\n",
    "        truths = Tensor(truths)\n",
    "        \n",
    "        o1 = relu(dense(inputs, layer_1_weights) + bias_1)\n",
    "        pred = sigmoid(dense(o1, layer_2_weights) + bias_2)\n",
    "        reg_term = reg * (layer_2_weights**2).sum() #this is regularlization value, Loss big = bad, loss small = good. \n",
    "        #reg is bad when all the parameters are really bad  Try to keep elements in W small so it does not overfit\n",
    "        loss = cross_entropy(pred, truths) + reg_term \n",
    "        #how good are our predictions and are we keeping the weights moderate. \n",
    "        loss.backward()\n",
    "        #gives the gradient/values for W.grad and b.grad\n",
    "         \n",
    "        for param in params:\n",
    "            param.data -= rate*param.grad\n",
    "        \n",
    "        # !!! Update model parameters using gradient descent with!!!\n",
    "        ### with the correct learning rate\n",
    "        loss.null_gradients()  # this is super important!!\n",
    "        \n",
    "        predicted_list = [float(ten.data) for ten in list(pred)]\n",
    "        #val_list = list(map(rounding, list(pred)))       \n",
    "        #train_accuracy = compute_accuracy(val_list, truths.data.tolist())\n",
    "        # the accuracy for this training batch\n",
    "        current_mse = mse(predicted_list, truths.data.tolist())\n",
    "        liveMSE.append(current_mse)\n",
    "        losses.append(loss.data.item())\n",
    "       \n",
    "    # Training is complete for this hyperparameter configuration\n",
    "    \n",
    "    # Use your trained model parameters to compute the predicted scores\n",
    "    # on the training data. Use this to compute the training-accuracy.\n",
    "    # save this to `train_acc`\n",
    "    \n",
    "    train_predict = fwd_pass(train_input, layer_1_weights, bias_1, layer_2_weights, bias_2)\n",
    "    predicted_list = [float(ten.data) for ten in list(train_predict)]\n",
    "    #what if you gradiented instead\n",
    "    \"\"\"for i, tensor in enumerate(predicted_list):\n",
    "        value = 0\n",
    "        if float(tensor.data) >= 0.95:\n",
    "            value = 1\n",
    "        predicted_list[i] = value\n",
    "    \"\"\"    \n",
    "    #train_acc = compute_accuracy(predicted_list, train_output.tolist())\n",
    "    train_mse = mse(predicted_list, train_output.tolist())\n",
    "\n",
    "    # Use your trained model parameters to compute the predicted scores\n",
    "    # on the validation data. Use this to compute the training-accuracy.\n",
    "    # save this to `val_acc`\n",
    "    \n",
    "    val_predict = fwd_pass(test_input, layer_1_weights, bias_1, layer_2_weights, bias_2)\n",
    "    val_list = [float(ten.data) for ten in list(val_predict)]\n",
    "    \"\"\"for i, tensor in enumerate(val_list):\n",
    "        value = 0\n",
    "        if float(tensor.data) >= 0.95:\n",
    "            value = 1\n",
    "        val_list[i] = value\n",
    "        \"\"\"\n",
    "        \n",
    "    #val_acc = compute_accuracy(val_list, test_output.tolist())\n",
    "    val_mse = mse(val_list, train_output.tolist())\n",
    "        \n",
    "    results[(rate, reg)] = (train_mse, val_mse)\n",
    "    if best_mse > val_mse:\n",
    "        best_loss = losses\n",
    "        best_MSEs = liveMSE\n",
    "        best_mse = val_mse\n",
    "        best_train = train_acc\n",
    "print(results)"
   ]
  },
  {
   "cell_type": "code",
   "execution_count": 384,
   "metadata": {},
   "outputs": [
    {
     "data": {
      "image/png": "[encoded data removed]",
      "text/plain": [
       "<matplotlib.figure.Figure at 0x2b616ed9b70>"
      ]
     },
     "metadata": {},
     "output_type": "display_data"
    }
   ],
   "source": [
    "# Visualize the cross-validation results\n",
    "import matplotlib.cm as cm\n",
    "import math\n",
    "x_scatter = [math.log10(x[0]) for x in results]\n",
    "y_scatter = [math.log10(x[1]) for x in results]\n",
    "\n",
    "# plot training accuracy\n",
    "marker_size = 100\n",
    "colors = [results[x][0] for x in results]\n",
    "#plt.subplot(2, 1, 1)\n",
    "plt.scatter(x_scatter, y_scatter, marker_size, c=colors, cmap=cm.viridis)\n",
    "plt.colorbar()\n",
    "plt.xlabel('log learning rate')\n",
    "plt.ylabel('log regularization strength')\n",
    "plt.title('Divorce training accuracy')\n",
    "plt.show()"
   ]
  },
  {
   "cell_type": "code",
   "execution_count": 388,
   "metadata": {},
   "outputs": [
    {
     "data": {
      "image/png": "[encoded data removed]",
      "text/plain": [
       "<matplotlib.figure.Figure at 0x2b6100c7ef0>"
      ]
     },
     "metadata": {},
     "output_type": "display_data"
    }
   ],
   "source": [
    "# plot validation accuracy\n",
    "colors = [results[x][1] for x in results] # default size of markers is 20\n",
    "#plt.subplot(2, 1, 2)\n",
    "plt.scatter(x_scatter, y_scatter, marker_size, c=colors,  cmap=cm.viridis)\n",
    "plt.colorbar()\n",
    "plt.xlabel('log learning rate')\n",
    "plt.ylabel('log regularization strength')\n",
    "plt.title(\"Divorce testing accuracy\")\n",
    "plt.show()"
   ]
  },
  {
   "cell_type": "code",
   "execution_count": 522,
   "metadata": {},
   "outputs": [
    {
     "name": "stdout",
     "output_type": "stream",
     "text": [
      "0\n",
      "1000\n",
      "2000\n",
      "3000\n",
      "4000\n",
      "5000\n",
      "6000\n",
      "7000\n",
      "8000\n",
      "9000\n",
      "10000\n",
      "11000\n",
      "12000\n",
      "13000\n",
      "14000\n",
      "15000\n",
      "16000\n",
      "17000\n",
      "18000\n",
      "19000\n",
      "test_input [ 2.  0.  2.  4.  2.  2.  4.  3.  4.  3.  2.  3.  3.  0.  4.  4.  3.  3.\n",
      "  3.  2.  2.  1.  2.  0.  0.  0.  0.  0.  2.  2.  3.  3.  3.  3.  3.  3.\n",
      "  3.  3.  1.  3.  2.  3.  3.  4.  4.  2.  3.  2.  2.  3.  3.  4.  2.  2.]\n",
      "test_output Tensor([ 0.79401171])\n",
      "should be greater than 0.75 and divorced\n",
      "model's MSE on test data 0.25248242084612965\n"
     ]
    }
   ],
   "source": [
    "\"\"\"Hyperparameters: Stepsize = 1e-6.  Regularization = 1000\"\"\"\n",
    "layer_1_weights = Tensor(he_normal((54, 170)))\n",
    "bias_1 = Tensor(np.zeros((170,), dtype=layer_1_weights.dtype))\n",
    "layer_2_weights = Tensor(he_normal((170, 1)))\n",
    "bias_2 = Tensor(np.zeros((1,), dtype=layer_2_weights.dtype))\n",
    "params = [layer_1_weights, layer_2_weights, bias_1, bias_2]\n",
    "\n",
    "rate = 1e-7\n",
    "reg = 1000\n",
    "\n",
    "iterations = 20000\n",
    "\n",
    "liveMSE = []\n",
    "losses = []\n",
    "\n",
    "for it in range(iterations):\n",
    "    if (it % 1000 == 0):\n",
    "        print(it)\n",
    "        \n",
    "    inputs = Tensor(train_input)\n",
    "    truths = Tensor(train_output)\n",
    "\n",
    "    o1 = relu(dense(inputs, layer_1_weights) + bias_1)\n",
    "    pred = sigmoid(dense(o1, layer_2_weights) + bias_2)\n",
    "    reg_term = reg * (layer_2_weights**2).sum() #this is regularlization value, Loss big = bad, loss small = good. \n",
    "    #reg is bad when all the parameters are really bad  Try to keep elements in W small so it does not overfit\n",
    "    loss = cross_entropy(pred, truths) + reg_term \n",
    "    #how good are our predictions and are we keeping the weights moderate. \n",
    "    loss.backward()\n",
    "    #gives the gradient/values for W.grad and b.grad\n",
    "\n",
    "    for param in params:\n",
    "        param.data -= rate*param.grad\n",
    "\n",
    "    # !!! Update model parameters using gradient descent with!!!\n",
    "    ### with the correct learning rate\n",
    "    loss.null_gradients()  # this is super important!!\n",
    "\n",
    "    predicted_list = [float(ten.data) for ten in list(pred)]\n",
    "    #val_list = list(map(rounding, list(pred)))       \n",
    "    #train_accuracy = compute_accuracy(val_list, truths.data.tolist())\n",
    "    # the accuracy for this training batch\n",
    "    current_mse = mse(predicted_list, truths.data.tolist())\n",
    "    liveMSE.append(current_mse)\n",
    "    losses.append(loss.data.item())\n",
    "\n",
    "print(\"test_input\", test_input[10])\n",
    "test_result = fwd_pass(Tensor(test_input), layer_1_weights, bias_1, layer_2_weights, bias_2)\n",
    "print(\"test_output\", test_result[10])\n",
    "print(\"should be greater than 0.75 and divorced\")\n",
    "test_list = [float(ten.data) for ten in list(test_result)]\n",
    "final_mse = mse(test_list, test_output.tolist())\n",
    "\n",
    "print(\"model's MSE on test data\", final_mse)"
   ]
  },
  {
   "cell_type": "code",
   "execution_count": 523,
   "metadata": {
    "scrolled": true
   },
   "outputs": [
    {
     "name": "stdout",
     "output_type": "stream",
     "text": [
      "test_input [ 1.  1.  0.  0.  0.  0.  0.  0.  0.  1.  0.  0.  1.  0.  0.  0.  0.  0.\n",
      "  0.  0.  1.  0.  0.  0.  1.  0.  1.  1.  1.  1.  0.  0.  0.  0.  0.  0.\n",
      "  0.  0.  0.  0.  0.  1.  2.  0.  2.  1.  0.  0.  1.  1.  1.  1.  1.  1.]\n",
      "test_output Tensor([ 0.58871674])\n",
      "safe\n",
      "model's MSE on test data 0.25248242084612965\n"
     ]
    }
   ],
   "source": [
    "print(\"test_input\", test_input[31])\n",
    "test_result = fwd_pass(Tensor(test_input), layer_1_weights, bias_1, layer_2_weights, bias_2)\n",
    "print(\"test_output\", test_result[31])\n",
    "if ((float(test_result[31].data))>0.75):\n",
    "    print(\"divorce\")\n",
    "else:\n",
    "    print(\"safe\")\n",
    "test_list = [float(ten.data) for ten in list(test_result)]\n",
    "final_mse = mse(test_list, test_output.tolist())\n",
    "\n",
    "print(\"model's MSE on test data\", final_mse)"
   ]
  },
  {
   "cell_type": "code",
   "execution_count": 524,
   "metadata": {},
   "outputs": [
    {
     "name": "stdout",
     "output_type": "stream",
     "text": [
      "1.0\n"
     ]
    }
   ],
   "source": [
    "outputs = []\n",
    "test_result = fwd_pass(Tensor(test_input), layer_1_weights, bias_1, layer_2_weights, bias_2)\n",
    "for prediction in test_result:\n",
    "    if (float(prediction.data) > 0.75):\n",
    "        outputs.append(1)\n",
    "    else:\n",
    "        outputs.append(0)\n",
    "\n",
    "total = 0\n",
    "for i, output in enumerate(outputs):\n",
    "    if test_output.tolist()[i] == output:\n",
    "        total += 1\n",
    "print(total / len(test_output.tolist()))"
   ]
  },
  {
   "cell_type": "code",
   "execution_count": 525,
   "metadata": {},
   "outputs": [
    {
     "data": {
      "image/png": "[encoded data removed]",
      "text/plain": [
       "<matplotlib.figure.Figure at 0x2b60fb6fb70>"
      ]
     },
     "metadata": {},
     "output_type": "display_data"
    }
   ],
   "source": [
    "fig,(ax) = plt.subplots(nrows=1)\n",
    "plt.title(\"Cross Entropy Loss over Time\")\n",
    "ax.plot(losses)\n",
    "plt.xlabel('Iterations')\n",
    "plt.show()"
   ]
  },
  {
   "cell_type": "code",
   "execution_count": 526,
   "metadata": {},
   "outputs": [
    {
     "data": {
      "image/png": "[encoded data removed]",
      "text/plain": [
       "<matplotlib.figure.Figure at 0x2b615ea5358>"
      ]
     },
     "metadata": {},
     "output_type": "display_data"
    }
   ],
   "source": [
    "fig,(ax2) = plt.subplots(nrows=1)\n",
    "plt.title(\"MSE over time\")\n",
    "ax2.plot(liveMSE)\n",
    "plt.xlabel('Iterations')\n",
    "plt.show()"
   ]
  },
  {
   "cell_type": "code",
   "execution_count": 527,
   "metadata": {},
   "outputs": [
    {
     "name": "stdout",
     "output_type": "stream",
     "text": [
      "[13.159393649990534, 13.39700407048173, 13.597904870548694, 12.459210313486047, 12.45202366148654, 12.365851677175316, 13.930288091673273, 12.717665453469143, 12.72688800309134, 11.932938929941205, 13.390138395852992, 13.159274839951763, 12.05387335779299, 13.579935841750515, 13.904926645051466, 13.629355590880694, 13.262468692638787, 12.340571063492007, 14.999516524667989, 13.50345122080811, 11.781294579115283, 12.302547299752451, 14.194835325325432, 12.787260344286652, 12.736773599859319, 13.019334187699425, 14.123177295442783, 12.892240597940015, 13.11880999673165, 12.26351070753626, 13.004937127054404, 11.14147509850699, 14.320960400897862, 13.840840182756505, 12.413350588472213, 12.881773724441171, 12.673430284171758, 13.477933293264595, 14.033692558292023, 12.257522833235344, 13.677266381786769, 14.0125868063202, 13.573869758457583, 14.275803988386317, 12.082886689116487, 13.76410214220024, 12.950271589848345, 13.698096575463117, 12.526730146428854, 12.495113570787478, 14.095026311936339, 13.819452155697983, 12.107155853534753, 12.229344198901725]\n",
      "54\n",
      "Important questions [19, 23, 27, 33, 39, 42, 44, 51]\n"
     ]
    }
   ],
   "source": [
    "sums = []\n",
    "for row in layer_1_weights:\n",
    "    total = 0\n",
    "    for elem in row.data.tolist():\n",
    "        total += abs(elem)\n",
    "    sums.append(total)\n",
    "\n",
    "print(sums)\n",
    "print(len(sums))\n",
    "\n",
    "indices = []\n",
    "for i, elem in enumerate(sums):\n",
    "    if elem >= 14:\n",
    "        indices.append(i+1)\n",
    "        \n",
    "print(\"Important questions\", indices)"
   ]
  },
  {
   "cell_type": "code",
   "execution_count": null,
   "metadata": {
    "collapsed": true
   },
   "outputs": [],
   "source": []
  }
 ],
 "metadata": {
  "kernelspec": {
   "display_name": "Python 3",
   "language": "python",
   "name": "python3"
  },
  "language_info": {
   "codemirror_mode": {
    "name": "ipython",
    "version": 3
   },
   "file_extension": ".py",
   "mimetype": "text/x-python",
   "name": "python",
   "nbconvert_exporter": "python",
   "pygments_lexer": "ipython3",
   "version": "3.6.1"
  }
 },
 "nbformat": 4,
 "nbformat_minor": 2
}
