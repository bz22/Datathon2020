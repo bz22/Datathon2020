{
 "cells": [
  {
   "cell_type": "code",
   "execution_count": 528,
   "metadata": {
    "collapsed": true
   },
   "outputs": [],
   "source": [
    "import numpy as np\n",
    "import random\n",
    "import matplotlib.pyplot as plt\n",
    "from MyGradUpdated.MyGrad.mygrad.tensor_base import Tensor\n",
    "from MyGradUpdated.MyGrad.mygrad.nnet.activations import sigmoid, relu\n",
    "from MyGradUpdated.MyGrad.mygrad.nnet.losses import SoftmaxCrossEntropy\n",
    "from MyGradUpdated.MyGrad.mygrad.math import log\n",
    "from MyGradUpdated.MyGrad.mygrad.nnet.layers import dense\n",
    "import pandas as pd\n",
    "from itertools import product "
   ]
  },
  {
   "cell_type": "code",
   "execution_count": 536,
   "metadata": {},
   "outputs": [
    {
     "name": "stdout",
     "output_type": "stream",
     "text": [
      "[[ 3.  4.  3. ...,  4.  4.  4.]\n",
      " [ 3.  3.  4. ...,  4.  4.  4.]\n",
      " [ 1.  1.  0. ...,  3.  0.  0.]\n",
      " ..., \n",
      " [ 4.  3.  2. ...,  4.  3.  4.]\n",
      " [ 0.  0.  0. ...,  4.  2.  2.]\n",
      " [ 4.  4.  3. ...,  3.  3.  4.]]\n",
      "[ 1.  1.  0.  0.  1.  1.  0.  0.  1.  0.  1.  1.  1.  1.  0.  0.  0.  1.\n",
      "  0.  1.  0.  0.  0.  1.  0.  0.  0.  0.  0.  0.  1.  0.  0.  0.  1.  0.\n",
      "  0.  1.  1.  0.  1.  0.  0.  0.  1.  1.  1.  1.  0.  0.  1.  1.  1.  1.\n",
      "  0.  0.  1.  1.  1.  1.  1.  0.  1.  0.  0.  1.  0.  1.  1.  0.  1.  0.\n",
      "  1.  1.  1.  1.  0.  1.  0.  1.  1.  1.  1.  0.  1.  1.  1.  0.  1.  1.\n",
      "  0.  0.  0.  1.  0.  1.  0.  0.  0.  1.  1.  0.  0.  0.  0.  0.  0.  1.\n",
      "  1.  1.  1.  0.  1.  1.  1.  0.  0.  1.  1.  1.  0.  1.  0.  1.  0.  0.\n",
      "  1.  1.  0.  0.  0.  1.  1.  1.  0.  1.]\n"
     ]
    }
   ],
   "source": [
    "\"\"\"Data Preprocessing: dividing training data from testing data\"\"\"\n",
    "fileName = \"divorce.xlsx\" #you can change this string file name\n",
    "data_frame_convert = pd.read_excel(fileName)\n",
    "parseArray = data_frame_convert.values\n",
    "\n",
    "train_input = parseArray[:136, :-2]\n",
    "train_output = parseArray[:136, -2]\n",
    "\n",
    "test_input = parseArray[136: ,:-2]\n",
    "test_output = parseArray[136:,-2]\n",
    "\n",
    "print(train_input)\n",
    "print(train_output)"
   ]
  },
  {
   "cell_type": "code",
   "execution_count": 358,
   "metadata": {
    "collapsed": true
   },
   "outputs": [],
   "source": [
    "\"\"\"Neural Net Functions\"\"\"\n",
    "\n",
    "def he_normal(shape):\n",
    "    N = shape[0] #gets how many \"images\" there are or \"items\"\n",
    "    scale = 1 / np.sqrt(2*N)\n",
    "    return np.random.randn(*shape)*scale\n",
    "\n",
    "def fwd_pass(x, weights_1, bias_1, weights_2, bias_2):\n",
    "    o1 = relu(dense(x, weights_1.data) + bias_1.data)\n",
    "    o2 = sigmoid(dense(o1, weights_2.data) + bias_2.data)\n",
    "    return o2\n",
    "    \n",
    "def cross_entropy(p_pred, p_true):\n",
    "    N = p_pred.shape[0]\n",
    "    p_logq = (p_true) * log(p_pred)\n",
    "    return (-1/ N) * p_logq.sum()  \n",
    "    \n",
    "def gradient_descent(param, rate):\n",
    "    print(param.grad)\n",
    "    \n",
    "def compute_accuracy(pred, actual):\n",
    "    #inputs are assumed to be a list\n",
    "    total = 0\n",
    "    for i in range(len(pred)):\n",
    "        if pred[i] == actual[i]:\n",
    "            total += 1\n",
    "    return total / len(pred)\n",
    "\n",
    "def mse(result, actual):\n",
    "    errors = [(actual - calculated) ** 2 for\n",
    "              calculated, actual in list(zip(result, actual))]   \n",
    "    return sum(errors) / len(result)\n",
    "\n",
    "def rounding(x):\n",
    "    if x >= 0.9:\n",
    "        return 1\n",
    "    return 0"
   ]
  },
  {
   "cell_type": "code",
   "execution_count": 532,
   "metadata": {},
   "outputs": [
    {
     "name": "stdout",
     "output_type": "stream",
     "text": [
      "1e-07 10000.0\n",
      "1e-07 1000.0\n",
      "1e-07 100.0\n",
      "1e-05 10000.0\n",
      "1e-05 1000.0\n",
      "1e-05 100.0\n",
      "1e-06 10000.0\n",
      "1e-06 1000.0\n",
      "1e-06 100.0\n",
      "1e-08 10000.0\n",
      "1e-08 1000.0\n",
      "1e-08 100.0\n",
      "{(1e-07, 10000.0): (0.23986727309079423, 0.25040670833584394), (1e-07, 1000.0): (0.1916134594008835, 0.2643617323926168), (1e-07, 100.0): (0.17678666615387778, 0.2861755754686406), (1e-05, 10000.0): (0.25956102900025146, 0.30588488056972524), (1e-05, 1000.0): (0.23716397985383222, 0.31982278906076783), (1e-05, 100.0): (0.265699793490664, 0.4030574720806593), (1e-06, 10000.0): (0.23760916939112786, 0.25465756338199386), (1e-06, 1000.0): (0.2095100305806184, 0.2619138823533212), (1e-06, 100.0): (0.22540693972645412, 0.37169028892418193), (1e-08, 10000.0): (0.255503917306982, 0.25036846209983227), (1e-08, 1000.0): (0.25800522750948335, 0.25959770863438747), (1e-08, 100.0): (0.2019899699728047, 0.2709409002485619)}\n"
     ]
    }
   ],
   "source": [
    "\"\"\"Cross Validation to determine best step-size and regularization factor\"\"\"\n",
    "iterations = 8000\n",
    "\n",
    "results = {}\n",
    "best_mse = float('inf')   # The highest validation accuracy that we have seen so far.\n",
    "best_loss = []  # list of loss values measured during best training session\n",
    "best_MSEs = []  # list of validation accuracies measured during best training session\n",
    "step_size = [1e-7,1e-5,1e-6, 1e-8]\n",
    "reg_strengths = [1e4,1e3,1e2]\n",
    "your_various_rate_reg_pairs = product(step_size, reg_strengths)\n",
    "flag = True\n",
    "for rate, reg in your_various_rate_reg_pairs:\n",
    "    #Weights init\n",
    "    layer_1_weights = Tensor(he_normal((54, 170)))\n",
    "    #print(\"WEIGHTS\", layer_1_weights)\n",
    "    bias_1 = Tensor(np.zeros((170,), dtype=layer_1_weights.dtype))\n",
    "    layer_2_weights = Tensor(he_normal((170, 1)))\n",
    "    bias_2 = Tensor(np.zeros((1,), dtype=layer_2_weights.dtype))\n",
    "    params = [layer_1_weights, layer_2_weights, bias_1, bias_2]\n",
    "    print(rate, reg)\n",
    "    \n",
    "    losses = []  # will store loss for each training iteration\n",
    "    liveMSE = []  # will store training accuracy for each training iteration\n",
    "    \n",
    "    for it in range(iterations):\n",
    "        mask = np.random.choice(len(train_input), size=34, replace=False)\n",
    "        inputs = train_input[mask]\n",
    "        truths = train_output[mask]\n",
    "        \n",
    "        inputs = Tensor(inputs)\n",
    "        truths = Tensor(truths)\n",
    "        \n",
    "        o1 = relu(dense(inputs, layer_1_weights) + bias_1)\n",
    "        pred = sigmoid(dense(o1, layer_2_weights) + bias_2)\n",
    "        reg_term = reg * (layer_2_weights**2).sum() #this is regularlization value, Loss big = bad, loss small = good. \n",
    "        #reg is bad when all the parameters are really bad  Try to keep elements in W small so it does not overfit\n",
    "        loss = cross_entropy(pred, truths) + reg_term \n",
    "        #how good are our predictions and are we keeping the weights moderate. \n",
    "        loss.backward()\n",
    "        #gives the gradient/values for W.grad and b.grad\n",
    "         \n",
    "        for param in params:\n",
    "            param.data -= rate*param.grad\n",
    "        \n",
    "        # !!! Update model parameters using gradient descent with!!!\n",
    "        ### with the correct learning rate\n",
    "        loss.null_gradients()  # this is super important!!\n",
    "        \n",
    "        predicted_list = [float(ten.data) for ten in list(pred)]\n",
    "        #val_list = list(map(rounding, list(pred)))       \n",
    "        #train_accuracy = compute_accuracy(val_list, truths.data.tolist())\n",
    "        # the accuracy for this training batch\n",
    "        current_mse = mse(predicted_list, truths.data.tolist())\n",
    "        liveMSE.append(current_mse)\n",
    "        losses.append(loss.data.item())\n",
    "       \n",
    "    # Training is complete for this hyperparameter configuration\n",
    "    \n",
    "    # Use your trained model parameters to compute the predicted scores\n",
    "    # on the training data. Use this to compute the training-accuracy.\n",
    "    # save this to `train_acc`\n",
    "    \n",
    "    train_predict = fwd_pass(train_input, layer_1_weights, bias_1, layer_2_weights, bias_2)\n",
    "    predicted_list = [float(ten.data) for ten in list(train_predict)]\n",
    "    #what if you gradiented instead\n",
    "    \"\"\"for i, tensor in enumerate(predicted_list):\n",
    "        value = 0\n",
    "        if float(tensor.data) >= 0.95:\n",
    "            value = 1\n",
    "        predicted_list[i] = value\n",
    "    \"\"\"    \n",
    "    #train_acc = compute_accuracy(predicted_list, train_output.tolist())\n",
    "    train_mse = mse(predicted_list, train_output.tolist())\n",
    "\n",
    "    # Use your trained model parameters to compute the predicted scores\n",
    "    # on the validation data. Use this to compute the training-accuracy.\n",
    "    # save this to `val_acc`\n",
    "    \n",
    "    val_predict = fwd_pass(test_input, layer_1_weights, bias_1, layer_2_weights, bias_2)\n",
    "    val_list = [float(ten.data) for ten in list(val_predict)]\n",
    "    \"\"\"for i, tensor in enumerate(val_list):\n",
    "        value = 0\n",
    "        if float(tensor.data) >= 0.95:\n",
    "            value = 1\n",
    "        val_list[i] = value\n",
    "        \"\"\"\n",
    "        \n",
    "    #val_acc = compute_accuracy(val_list, test_output.tolist())\n",
    "    val_mse = mse(val_list, train_output.tolist())\n",
    "        \n",
    "    results[(rate, reg)] = (train_mse, val_mse)\n",
    "    if best_mse > val_mse:\n",
    "        best_loss = losses\n",
    "        best_MSEs = liveMSE\n",
    "        best_mse = val_mse\n",
    "        best_train = train_acc\n",
    "print(results)"
   ]
  },
  {
   "cell_type": "code",
   "execution_count": 537,
   "metadata": {},
   "outputs": [
    {
     "data": {
      "image/png": "[encoded data removed]",
      "text/plain": [
       "<matplotlib.figure.Figure at 0x2b617ec2be0>"
      ]
     },
     "metadata": {},
     "output_type": "display_data"
    }
   ],
   "source": [
    "# Visualize the cross-validation results\n",
    "import matplotlib.cm as cm\n",
    "import math\n",
    "x_scatter = [math.log10(x[0]) for x in results]\n",
    "y_scatter = [math.log10(x[1]) for x in results]\n",
    "\n",
    "# plot training accuracy\n",
    "marker_size = 100\n",
    "colors = [results[x][0] for x in results]\n",
    "#plt.subplot(2, 1, 1)\n",
    "plt.scatter(x_scatter, y_scatter, marker_size, c=colors, cmap=cm.viridis)\n",
    "plt.colorbar()\n",
    "plt.xlabel('log learning rate')\n",
    "plt.ylabel('log regularization strength')\n",
    "plt.title('Divorce training accuracy')\n",
    "plt.show()"
   ]
  },
  {
   "cell_type": "code",
   "execution_count": 539,
   "metadata": {},
   "outputs": [
    {
     "data": {
      "image/png": "[encoded data removed]",
      "text/plain": [
       "<matplotlib.figure.Figure at 0x2b60fc9d358>"
      ]
     },
     "metadata": {},
     "output_type": "display_data"
    }
   ],
   "source": [
    "# plot validation accuracy\n",
    "colors = [results[x][1] for x in results] # default size of markers is 20\n",
    "#plt.subplot(2, 1, 2)\n",
    "plt.scatter(x_scatter, y_scatter, marker_size, c=colors,  cmap=cm.viridis)\n",
    "plt.colorbar()\n",
    "plt.xlabel('log learning rate')\n",
    "plt.ylabel('log regularization strength')\n",
    "plt.title(\"Divorce testing accuracy\")\n",
    "plt.show()"
   ]
  },
  {
   "cell_type": "code",
   "execution_count": 538,
   "metadata": {},
   "outputs": [
    {
     "name": "stdout",
     "output_type": "stream",
     "text": [
      "0\n",
      "1000\n",
      "2000\n",
      "3000\n",
      "4000\n",
      "5000\n",
      "6000\n",
      "7000\n",
      "8000\n",
      "9000\n",
      "10000\n",
      "11000\n",
      "12000\n",
      "13000\n",
      "14000\n",
      "15000\n",
      "16000\n",
      "17000\n",
      "18000\n",
      "19000\n",
      "test_input [ 2.  0.  2.  4.  2.  2.  4.  3.  4.  3.  2.  3.  3.  0.  4.  4.  3.  3.\n",
      "  3.  2.  2.  1.  2.  0.  0.  0.  0.  0.  2.  2.  3.  3.  3.  3.  3.  3.\n",
      "  3.  3.  1.  3.  2.  3.  3.  4.  4.  2.  3.  2.  2.  3.  3.  4.  2.  2.]\n",
      "test_output Tensor([ 0.77198076])\n",
      "should be greater than 0.75 and divorced\n",
      "model's MSE on test data 0.2530412012610141\n"
     ]
    }
   ],
   "source": [
    "\"\"\"Hyperparameters: Stepsize = 1e-6.  Regularization = 1000\"\"\"\n",
    "\"Actual model training\"\n",
    "layer_1_weights = Tensor(he_normal((54, 170)))\n",
    "bias_1 = Tensor(np.zeros((170,), dtype=layer_1_weights.dtype))\n",
    "layer_2_weights = Tensor(he_normal((170, 1)))\n",
    "bias_2 = Tensor(np.zeros((1,), dtype=layer_2_weights.dtype))\n",
    "params = [layer_1_weights, layer_2_weights, bias_1, bias_2]\n",
    "\n",
    "rate = 1e-7\n",
    "reg = 1000\n",
    "\n",
    "iterations = 20000\n",
    "\n",
    "liveMSE = []\n",
    "losses = []\n",
    "\n",
    "for it in range(iterations):\n",
    "    if (it % 1000 == 0):\n",
    "        print(it)\n",
    "        \n",
    "    inputs = Tensor(train_input)\n",
    "    truths = Tensor(train_output)\n",
    "\n",
    "    o1 = relu(dense(inputs, layer_1_weights) + bias_1)\n",
    "    pred = sigmoid(dense(o1, layer_2_weights) + bias_2)\n",
    "    reg_term = reg * (layer_2_weights**2).sum() #this is regularlization value, Loss big = bad, loss small = good. \n",
    "    #reg is bad when all the parameters are really bad  Try to keep elements in W small so it does not overfit\n",
    "    loss = cross_entropy(pred, truths) + reg_term \n",
    "    #how good are our predictions and are we keeping the weights moderate. \n",
    "    loss.backward()\n",
    "    #gives the gradient/values for W.grad and b.grad\n",
    "\n",
    "    for param in params:\n",
    "        param.data -= rate*param.grad\n",
    "\n",
    "    # !!! Update model parameters using gradient descent with!!!\n",
    "    ### with the correct learning rate\n",
    "    loss.null_gradients()  # this is super important!!\n",
    "\n",
    "    predicted_list = [float(ten.data) for ten in list(pred)]\n",
    "    #val_list = list(map(rounding, list(pred)))       \n",
    "    #train_accuracy = compute_accuracy(val_list, truths.data.tolist())\n",
    "    # the accuracy for this training batch\n",
    "    current_mse = mse(predicted_list, truths.data.tolist())\n",
    "    liveMSE.append(current_mse)\n",
    "    losses.append(loss.data.item())\n",
    "\n",
    "print(\"test_input\", test_input[10])\n",
    "test_result = fwd_pass(Tensor(test_input), layer_1_weights, bias_1, layer_2_weights, bias_2)\n",
    "print(\"test_output\", test_result[10])\n",
    "print(\"should be greater than 0.75 and divorced\")\n",
    "test_list = [float(ten.data) for ten in list(test_result)]\n",
    "final_mse = mse(test_list, test_output.tolist())\n",
    "\n",
    "print(\"model's MSE on test data\", final_mse)"
   ]
  },
  {
   "cell_type": "code",
   "execution_count": 523,
   "metadata": {
    "scrolled": true
   },
   "outputs": [
    {
     "name": "stdout",
     "output_type": "stream",
     "text": [
      "test_input [ 1.  1.  0.  0.  0.  0.  0.  0.  0.  1.  0.  0.  1.  0.  0.  0.  0.  0.\n",
      "  0.  0.  1.  0.  0.  0.  1.  0.  1.  1.  1.  1.  0.  0.  0.  0.  0.  0.\n",
      "  0.  0.  0.  0.  0.  1.  2.  0.  2.  1.  0.  0.  1.  1.  1.  1.  1.  1.]\n",
      "test_output Tensor([ 0.58871674])\n",
      "safe\n",
      "model's MSE on test data 0.25248242084612965\n"
     ]
    }
   ],
   "source": [
    "\"Testing the model and its MSE and analyzing individual results\"\n",
    "print(\"test_input\", test_input[31])\n",
    "test_result = fwd_pass(Tensor(test_input), layer_1_weights, bias_1, layer_2_weights, bias_2)\n",
    "print(\"test_output\", test_result[31])\n",
    "if ((float(test_result[31].data))>0.75):\n",
    "    print(\"divorce\")\n",
    "else:\n",
    "    print(\"safe\")\n",
    "test_list = [float(ten.data) for ten in list(test_result)]\n",
    "final_mse = mse(test_list, test_output.tolist())\n",
    "\n",
    "print(\"model's MSE on test data\", final_mse)"
   ]
  },
  {
   "cell_type": "code",
   "execution_count": 524,
   "metadata": {},
   "outputs": [
    {
     "name": "stdout",
     "output_type": "stream",
     "text": [
      "1.0\n"
     ]
    }
   ],
   "source": [
    "\"\"\"Showing the accuracy of each prediction within the testing data set.  Note it is most often \n",
    "1.0 because our dataset is very small (34 entries)\"\"\"\n",
    "outputs = []\n",
    "test_result = fwd_pass(Tensor(test_input), layer_1_weights, bias_1, layer_2_weights, bias_2)\n",
    "for prediction in test_result:\n",
    "    if (float(prediction.data) > 0.75):\n",
    "        outputs.append(1)\n",
    "    else:\n",
    "        outputs.append(0)\n",
    "\n",
    "total = 0\n",
    "for i, output in enumerate(outputs):\n",
    "    if test_output.tolist()[i] == output:\n",
    "        total += 1\n",
    "print(total / len(test_output.tolist()))"
   ]
  },
  {
   "cell_type": "code",
   "execution_count": 533,
   "metadata": {},
   "outputs": [
    {
     "data": {
      "image/png": "[encoded data removed]",
      "text/plain": [
       "<matplotlib.figure.Figure at 0x2b6101ef908>"
      ]
     },
     "metadata": {},
     "output_type": "display_data"
    }
   ],
   "source": [
    "\"\"\"Plotting loss function over time \"\"\"\n",
    "fig,(ax) = plt.subplots(nrows=1)\n",
    "plt.title(\"Cross Entropy Loss over Time\")\n",
    "ax.plot(losses)\n",
    "plt.xlabel('Iterations')\n",
    "plt.show()"
   ]
  },
  {
   "cell_type": "code",
   "execution_count": 534,
   "metadata": {},
   "outputs": [
    {
     "data": {
      "image/png": "[encoded data removed]",
      "text/plain": [
       "<matplotlib.figure.Figure at 0x2b618fc0e10>"
      ]
     },
     "metadata": {},
     "output_type": "display_data"
    }
   ],
   "source": [
    "\"\"\"Plotting MSE over time.  Note: please be aware of the scale\"\"\"\n",
    "fig,(ax2) = plt.subplots(nrows=1)\n",
    "plt.title(\"MSE over time\")\n",
    "ax2.plot(liveMSE)\n",
    "plt.xlabel('Iterations')\n",
    "plt.show()"
   ]
  },
  {
   "cell_type": "code",
   "execution_count": 535,
   "metadata": {},
   "outputs": [
    {
     "name": "stdout",
     "output_type": "stream",
     "text": [
      "[12.997625282337891, 13.78585987859346, 13.697741704328305, 13.982320867279261, 13.001308257875307, 11.715037455243056, 12.129560480357151, 13.428304559852982, 14.647849787165548, 13.45999484974084, 12.777128173943163, 13.392895246195216, 12.925613603058201, 13.401792339393051, 13.477118214744774, 13.169911318319793, 13.258227151788281, 11.505616150880451, 12.850166931542834, 11.737922935343285, 13.675018944916669, 12.866929151407255, 13.218979065869828, 12.3865344890564, 14.285606364507633, 11.756132893673932, 13.496567416958978, 13.369263244468915, 13.059416369836706, 13.320771919667544, 12.755840152212746, 12.486549398606371, 14.301748695393213, 13.273841315975433, 13.466657915490508, 13.058611191884793, 13.09209356817092, 12.842542358430178, 12.2110278995235, 12.559455036125804, 13.219282501480665, 10.940218845607246, 12.718745188068064, 12.792409995926416, 13.758425616505983, 14.457559229227686, 12.860695050231342, 13.469452244418727, 13.296861652642637, 13.371066149731151, 13.980410879130021, 12.135783809301051, 12.660806077916156, 13.358558571080854]\n",
      "54\n",
      "Important questions [9, 25, 33, 46]\n"
     ]
    }
   ],
   "source": [
    "\"Determining which questions hold more importance by analyzing the magnitudes of their weights\"\n",
    "sums = []\n",
    "for row in layer_1_weights:\n",
    "    total = 0\n",
    "    for elem in row.data.tolist():\n",
    "        total += abs(elem)\n",
    "    sums.append(total)\n",
    "\n",
    "print(sums)\n",
    "print(len(sums))\n",
    "\n",
    "indices = []\n",
    "for i, elem in enumerate(sums):\n",
    "    if elem >= 14:\n",
    "        indices.append(i+1)\n",
    "        \n",
    "print(\"Important questions\", indices)"
   ]
  },
  {
   "cell_type": "code",
   "execution_count": null,
   "metadata": {
    "collapsed": true
   },
   "outputs": [],
   "source": []
  }
 ],
 "metadata": {
  "kernelspec": {
   "display_name": "Python 3",
   "language": "python",
   "name": "python3"
  },
  "language_info": {
   "codemirror_mode": {
    "name": "ipython",
    "version": 3
   },
   "file_extension": ".py",
   "mimetype": "text/x-python",
   "name": "python",
   "nbconvert_exporter": "python",
   "pygments_lexer": "ipython3",
   "version": "3.6.1"
  }
 },
 "nbformat": 4,
 "nbformat_minor": 2
}
